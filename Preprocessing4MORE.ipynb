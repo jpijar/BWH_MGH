{
 "cells": [
  {
   "cell_type": "code",
   "execution_count": 9,
   "id": "9582f870",
   "metadata": {},
   "outputs": [],
   "source": [
    "import os\n",
    "import shutil\n",
    "import pandas as pd\n",
    "import nilearn\n",
    "import nilearn.image\n",
    "import nibabel as nib\n",
    "from nilearn.image import load_img\n",
    "from nilearn.image import math_img\n",
    "from nilearn.image import resample_to_img\n",
    "import numpy as np"
   ]
  },
  {
   "cell_type": "code",
   "execution_count": 4,
   "id": "48999840",
   "metadata": {},
   "outputs": [],
   "source": [
    "directory = [i for i in os.listdir('/Volumes/Cingulate/Fred/MORE/MOREBIDS/derivatives/leaddbs') if i.startswith('sub')]\n",
    "for i in directory:\n",
    "    if os.path.exists(f'/Volumes/Cingulate/Fred/MORE/MOREBIDS/derivatives/leaddbs/{i}/stimulations/MNI152NLin2009bAsym/gs_20250218170636/{i}_sim-efield_model-simbio_hemi-L.nii') and os.path.exists(f'/Volumes/Cingulate/Fred/MORE/MOREBIDS/derivatives/leaddbs/{i}/stimulations/MNI152NLin2009bAsym/gs_20250218170636/{i}_sim-efield_model-simbio_hemi-R.nii'):\n",
    "        shutil.copyfile(f'/Volumes/Cingulate/Fred/MORE/MOREBIDS/derivatives/leaddbs/{i}/stimulations/MNI152NLin2009bAsym/gs_20250218170636/{i}_sim-efield_model-simbio_hemi-L.nii',f'/Volumes/Cingulate/Fred/MORE/VTAsFieldTrip/Efields/{i}_MNI-simbio_hemi-L.nii')\n",
    "        shutil.copyfile(f'/Volumes/Cingulate/Fred/MORE/MOREBIDS/derivatives/leaddbs/{i}/stimulations/MNI152NLin2009bAsym/gs_20250218170636/{i}_sim-efield_model-simbio_hemi-R.nii',f'/Volumes/Cingulate/Fred/MORE/VTAsFieldTrip/Efields/{i}_MNI-simbio_hemi-R.nii')\n",
    "        shutil.copyfile(f'/Volumes/Cingulate/Fred/MORE/MOREBIDS/derivatives/leaddbs/{i}/stimulations/MNI152NLin2009bAsym/gs_20250218170636/{i}_sim-binary_model-simbio_hemi-L.nii',f'/Volumes/Cingulate/Fred/MORE/VTAsFieldTrip/VTA/{i}_MNI-simbio_hemi-L.nii')\n",
    "        shutil.copyfile(f'/Volumes/Cingulate/Fred/MORE/MOREBIDS/derivatives/leaddbs/{i}/stimulations/MNI152NLin2009bAsym/gs_20250218170636/{i}_sim-binary_model-simbio_hemi-R.nii',f'/Volumes/Cingulate/Fred/MORE/VTAsFieldTrip/VTA/{i}_MNI-simbio_hemi-R.nii')"
   ]
  },
  {
   "cell_type": "code",
   "execution_count": 5,
   "id": "191d6f6b",
   "metadata": {},
   "outputs": [],
   "source": [
    "#make bilateral\n",
    "mni = load_img('/Users/jp1590/Desktop/MNI152_T1_0.5mm.nii.gz')\n",
    "directory = [i for i in os.listdir('/Volumes/Cingulate/Fred/MORE/MOREBIDS/derivatives/leaddbs')]\n",
    "\n",
    "for i in directory:\n",
    "    if os.path.exists(f'/Volumes/Cingulate/Fred/MORE/VTAsFieldTrip/Efields/{i}_MNI-simbio_hemi-R.nii'):\n",
    "        lh = load_img(f'/Volumes/Cingulate/Fred/MORE/VTAsFieldTrip/Efields/{i}_MNI-simbio_hemi-L.nii')\n",
    "        rh = load_img(f'/Volumes/Cingulate/Fred/MORE/VTAsFieldTrip/Efields/{i}_MNI-simbio_hemi-R.nii')\n",
    "        re_lh = resample_to_img(lh,mni,interpolation='nearest')\n",
    "        re_rh = resample_to_img(rh,mni,interpolation='nearest')\n",
    "        bi = math_img('img1+img2',img1=re_lh,img2=re_rh)\n",
    "        nib.save(bi,f'/Volumes/Cingulate/Fred/MORE/VTAsFieldTrip/Efields/{i}_MNI-simbio_hemi-bi.nii')"
   ]
  },
  {
   "cell_type": "code",
   "execution_count": 6,
   "id": "a094734c",
   "metadata": {},
   "outputs": [],
   "source": [
    "#make bilateral\n",
    "mni = load_img('/Users/jp1590/Desktop/MNI152_T1_0.5mm.nii.gz')\n",
    "directory = [i for i in os.listdir('/Volumes/Cingulate/Fred/MORE/MOREBIDS/derivatives/leaddbs')]\n",
    "\n",
    "for i in directory:\n",
    "    if os.path.exists(f'/Volumes/Cingulate/Fred/MORE/VTAsFieldTrip/VTA/{i}_MNI-simbio_hemi-R.nii'):\n",
    "        lh = load_img(f'/Volumes/Cingulate/Fred/MORE/VTAsFieldTrip/VTA/{i}_MNI-simbio_hemi-L.nii')\n",
    "        rh = load_img(f'/Volumes/Cingulate/Fred/MORE/VTAsFieldTrip/VTA/{i}_MNI-simbio_hemi-R.nii')\n",
    "        re_lh = resample_to_img(lh,mni,interpolation='nearest')\n",
    "        re_rh = resample_to_img(rh,mni,interpolation='nearest')\n",
    "        bi = math_img('img1+img2',img1=re_lh,img2=re_rh)\n",
    "        nib.save(bi,f'/Volumes/Cingulate/Fred/MORE/VTAsFieldTrip/VTA/{i}_MNI-simbio_hemi-bi.nii')"
   ]
  },
  {
   "cell_type": "code",
   "execution_count": 7,
   "id": "0cbf7a36",
   "metadata": {},
   "outputs": [],
   "source": [
    "#crop to c1 mask\n",
    "mask = load_img('/Volumes/Cingulate/Fred/MORE/SweetspotExplorer/c1_mask.nii')\n",
    "mask_bin = math_img('img > 0', img=mask)\n",
    "directory = [i for i in os.listdir('/Volumes/Cingulate/Fred/MORE/MOREBIDS/derivatives/leaddbs')]\n",
    "\n",
    "for i in directory:\n",
    "    if os.path.exists(f'/Volumes/Cingulate/Fred/MORE/VTAsFieldTrip/VTA/{i}_MNI-simbio_hemi-bi.nii'):\n",
    "        vta = load_img(f'/Volumes/Cingulate/Fred/MORE/VTAsFieldTrip/VTA/{i}_MNI-simbio_hemi-bi.nii')\n",
    "        crop_vta = math_img('img1*img2',img1=vta,img2=mask_bin)\n",
    "        nib.save(crop_vta,f'/Volumes/Cingulate/Fred/MORE/VTAsFieldTrip/VTA/Crop/{i}_MNI-simbio_hemi-bi.nii')"
   ]
  },
  {
   "cell_type": "code",
   "execution_count": 12,
   "id": "1ab6033d",
   "metadata": {},
   "outputs": [],
   "source": [
    "#crop to c1 mask\n",
    "mask = load_img('/Volumes/Cingulate/Fred/MORE/SweetspotExplorer/c1_mask.nii')\n",
    "mask_bin = math_img('img > 0', img=mask)\n",
    "directory = [i for i in os.listdir('/Volumes/Cingulate/Fred/MORE/MOREBIDS/derivatives/leaddbs')]\n",
    "\n",
    "for i in directory:\n",
    "    if os.path.exists(f'/Volumes/Cingulate/Fred/MORE/VTAsFieldTrip/Efields/{i}_MNI-simbio_hemi-bi.nii'):\n",
    "        vta = load_img(f'/Volumes/Cingulate/Fred/MORE/VTAsFieldTrip/Efields/{i}_MNI-simbio_hemi-bi.nii')\n",
    "        crop_vta = math_img('img1*img2',img1=vta,img2=mask_bin)\n",
    "        nib.save(crop_vta,f'/Volumes/Cingulate/Fred/MORE/VTAsFieldTrip/Efields/Crop/{i}_MNI-simbio_hemi-bi.nii')"
   ]
  },
  {
   "cell_type": "code",
   "execution_count": null,
   "id": "10388655",
   "metadata": {},
   "outputs": [],
   "source": []
  },
  {
   "cell_type": "code",
   "execution_count": null,
   "id": "9029f42a",
   "metadata": {},
   "outputs": [],
   "source": []
  }
 ],
 "metadata": {
  "kernelspec": {
   "display_name": "Python 3 (ipykernel)",
   "language": "python",
   "name": "python3"
  },
  "language_info": {
   "codemirror_mode": {
    "name": "ipython",
    "version": 3
   },
   "file_extension": ".py",
   "mimetype": "text/x-python",
   "name": "python",
   "nbconvert_exporter": "python",
   "pygments_lexer": "ipython3",
   "version": "3.11.4"
  }
 },
 "nbformat": 4,
 "nbformat_minor": 5
}
