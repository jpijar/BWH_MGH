{
 "cells": [
  {
   "cell_type": "code",
   "execution_count": 2,
   "id": "2753b4fd",
   "metadata": {},
   "outputs": [],
   "source": [
    "import plotly.graph_objects as go\n",
    "import plotly.io as pio"
   ]
  },
  {
   "cell_type": "code",
   "execution_count": 121,
   "id": "35771d0a",
   "metadata": {
    "scrolled": false
   },
   "outputs": [
    {
     "data": {
      "text/html": [
       "<iframe\n",
       "    scrolling=\"no\"\n",
       "    width=\"100%\"\n",
       "    height=\"545px\"\n",
       "    src=\"iframe_figures/figure_121.html\"\n",
       "    frameborder=\"0\"\n",
       "    allowfullscreen\n",
       "></iframe>\n"
      ]
     },
     "metadata": {},
     "output_type": "display_data"
    }
   ],
   "source": [
    "pio.renderers.default = 'iframe'\n",
    "\n",
    "customColors = ['#C7BFB8','rgba(98,70,107,0.8)', \n",
    "                'rgba(140,147,168,0.8)', 'rgba(181,194,183,0.8)','rgba(242,217,220,0.8)']\n",
    "\n",
    "link_colors = (\n",
    "    [customColors[0]] * 4 + \n",
    "    [customColors[1]] * 4 + \n",
    "    [customColors[2]] * 4 + \n",
    "    [customColors[3]] * 4 +\n",
    "    [customColors[4]] * 4\n",
    ")\n",
    "\n",
    "labels = [\n",
    "    'Total (N=676)', \n",
    "    'Ant (N=336)', \n",
    "    'Cm (N=135)', \n",
    "    'Hippocampus (N=107)', \n",
    "    'Other (N=98)',\n",
    "    'Focal (N=219, SR=42%)', \n",
    "    'Generalized (N=31, SR=39%)', \n",
    "    'Multifocal (N=66, SR=47.69%)', \n",
    "    'Multiple Types (N=6, SR=55%)', \n",
    "    'Focal (N=5, SR=42%)', \n",
    "    'Generalized (N=62, SR=71%)', \n",
    "    'Multifocal (N=5, SR=69%)', \n",
    "    'Multiple Types (N=4, SR=89.79%)', \n",
    "    'Focal (N=71, SR=74%)', \n",
    "    'Generalized (N=0, SR=0%)', \n",
    "    'Multifocal (N=1, SR=75%)', \n",
    "    'Multiple Types (N=0, SR=0%)',\n",
    "    'Focal (N=32, SR=80.16%)', \n",
    "    'Generalized (N=11, SR=61%)', \n",
    "    'Multifocal (N=5, SR=73%)', \n",
    "    'Multiple Types (N=6, SR=56%)'\n",
    "]\n",
    "\n",
    "fig = go.Figure(go.Sankey(\n",
    "    arrangement='snap',\n",
    "    node=dict(\n",
    "        pad=15,\n",
    "        thickness=20,\n",
    "        line=dict(color='black', width=0.5),\n",
    "        label=labels,\n",
    "        color=['#633E3A', '#3E3541', '#353D53', '#3A6D42', '#B576C0', '#26436C', '#2D2061', '#461B6B'],\n",
    "        align='left'\n",
    "\n",
    "    ),\n",
    "    link=dict(\n",
    "        arrowlen=15,\n",
    "        source=[0,0,0,0,1,1,1,1,2,2,2,2,3,3,3,3,4,4,4,4],\n",
    "        target=[1,2,3,4,5,6,7,8,5,6,7,8,5,6,7,8,5,6,7,8],\n",
    "        value=[336,135,107,98,31,219,66,6,62,5,5,4,0,71,1,0,11,32,5,6],\n",
    "        color=link_colors\n",
    "    )\n",
    "))\n",
    "\n",
    "fig.update_layout(\n",
    "    title_text='Sankey Diagram: Seizure Types and Reductions by Target',\n",
    "    font_size=12\n",
    ")\n",
    "\n",
    "fig.show()"
   ]
  },
  {
   "cell_type": "code",
   "execution_count": null,
   "id": "c9aad0e0",
   "metadata": {},
   "outputs": [],
   "source": []
  },
  {
   "cell_type": "code",
   "execution_count": null,
   "id": "dc7eda24",
   "metadata": {},
   "outputs": [],
   "source": []
  }
 ],
 "metadata": {
  "kernelspec": {
   "display_name": "Python 3 (ipykernel)",
   "language": "python",
   "name": "python3"
  },
  "language_info": {
   "codemirror_mode": {
    "name": "ipython",
    "version": 3
   },
   "file_extension": ".py",
   "mimetype": "text/x-python",
   "name": "python",
   "nbconvert_exporter": "python",
   "pygments_lexer": "ipython3",
   "version": "3.11.4"
  }
 },
 "nbformat": 4,
 "nbformat_minor": 5
}
