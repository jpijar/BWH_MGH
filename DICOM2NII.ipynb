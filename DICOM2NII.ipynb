{
 "cells": [
  {
   "cell_type": "code",
   "execution_count": 1,
   "id": "0b0560d6",
   "metadata": {},
   "outputs": [
    {
     "name": "stderr",
     "output_type": "stream",
     "text": [
      "/var/folders/wf/8pxjw4251t7fl_l85_v1_33r0000gp/T/ipykernel_34701/4022084912.py:2: UserWarning: The DICOM readers are highly experimental, unstable, and only work for Siemens time-series at the moment\n",
      "Please use with caution.  We would be grateful for your help in improving them\n",
      "  import nibabel.nicom.dicomwrappers\n"
     ]
    }
   ],
   "source": [
    "import pydicom\n",
    "import nibabel.nicom.dicomwrappers\n",
    "import numpy as np\n",
    "import nibabel as nib\n",
    "import pandas as pd\n",
    "import os, glob\n",
    "from nilearn import image\n",
    "from nilearn.image import load_img\n",
    "import dicom2nifti"
   ]
  },
  {
   "cell_type": "code",
   "execution_count": 14,
   "id": "a33e401c",
   "metadata": {},
   "outputs": [],
   "source": [
    "#for dicoms\n",
    "ids = ['NCH 04','NCH007','NCH008','NCH009','NCH011','NCH012','NHC006','OSU #11 NCH03','OSU008','OSU010','UCSF008','UCSF009','UCSF010']\n",
    "\n",
    "dicom_base_path = '/Volumes/Cingulate/AADC/new sub/DICOM'\n",
    "output_base_path = '/Volumes/Cingulate/AADC/new sub/Subjects'\n",
    "\n",
    "for subject_id in ids:\n",
    "    # construct the DICOM path for the current ID\n",
    "    dicom_path = os.path.join(dicom_base_path, subject_id.upper())\n",
    "\n",
    "    # iterate through the DICOM directory\n",
    "    for dirpath, dirnames, filenames in os.walk(dicom_path):\n",
    "        if any(filename.endswith('.dcm') for filename in filenames):\n",
    "            dicom2nifti.convert_directory(dirpath, os.path.join(output_base_path, subject_id.upper()))"
   ]
  },
  {
   "cell_type": "code",
   "execution_count": 5,
   "id": "9e547b21",
   "metadata": {},
   "outputs": [
    {
     "name": "stderr",
     "output_type": "stream",
     "text": [
      "At least 3 slices are needed for correct conversion\n",
      "---------------------------------------------------------\n",
      "Traceback (most recent call last):\n",
      "  File \"/Library/Frameworks/Python.framework/Versions/3.11/lib/python3.11/site-packages/dicom2nifti/convert_dir.py\", line 85, in convert_directory\n",
      "    convert_dicom.dicom_array_to_nifti(dicom_input, nifti_file, reorient)\n",
      "  File \"/Library/Frameworks/Python.framework/Versions/3.11/lib/python3.11/site-packages/dicom2nifti/convert_dicom.py\", line 118, in dicom_array_to_nifti\n",
      "    results = convert_generic.dicom_to_nifti(dicom_list, output_file)\n",
      "              ^^^^^^^^^^^^^^^^^^^^^^^^^^^^^^^^^^^^^^^^^^^^^^^^^^^^^^^\n",
      "  File \"/Library/Frameworks/Python.framework/Versions/3.11/lib/python3.11/site-packages/dicom2nifti/convert_generic.py\", line 230, in dicom_to_nifti\n",
      "    common.validate_slicecount(dicom_input)\n",
      "  File \"/Library/Frameworks/Python.framework/Versions/3.11/lib/python3.11/site-packages/dicom2nifti/common.py\", line 1023, in validate_slicecount\n",
      "    raise ConversionValidationError('TOO_FEW_SLICES/LOCALIZER')\n",
      "dicom2nifti.exceptions.ConversionValidationError: TOO_FEW_SLICES/LOCALIZER\n"
     ]
    },
    {
     "name": "stdout",
     "output_type": "stream",
     "text": [
      "Converted /Volumes/Cingulate/AADC/new sub/DICOM/NCH007 to /Volumes/Cingulate/AADC/new sub/NII/NCH007/NCH007\n"
     ]
    }
   ],
   "source": [
    "#for the unix executable files\n",
    "def convert_dicom_to_nifti(dicom_path, output_base_path):\n",
    "    for dirpath, dirnames, filenames in os.walk(dicom_path):\n",
    "        #if any(filename.endswith('.exe') for filename in filenames):\n",
    "        subject_id = os.path.basename(dirpath)\n",
    "        output_dir = os.path.join(output_base_path, subject_id.upper())\n",
    "        if not os.path.exists(output_dir):\n",
    "            os.makedirs(output_dir)\n",
    "        try:\n",
    "            dicom2nifti.convert_directory(dirpath, output_dir)\n",
    "            print(f\"Converted {dirpath} to {output_dir}\")\n",
    "        except Exception as e:\n",
    "            print(f\"Error converting {dirpath}: {e}\")\n",
    "\n",
    "# Example usage\n",
    "dicom_path = '/Volumes/Cingulate/AADC/new sub/DICOM/NCH007'\n",
    "output_base_path = '/Volumes/Cingulate/AADC/new sub/NII/NCH007'\n",
    "convert_dicom_to_nifti(dicom_path, output_base_path)"
   ]
  },
  {
   "cell_type": "code",
   "execution_count": null,
   "id": "c0181dc2",
   "metadata": {},
   "outputs": [],
   "source": []
  },
  {
   "cell_type": "code",
   "execution_count": null,
   "id": "94eecdaa",
   "metadata": {},
   "outputs": [],
   "source": []
  }
 ],
 "metadata": {
  "kernelspec": {
   "display_name": "Python 3 (ipykernel)",
   "language": "python",
   "name": "python3"
  },
  "language_info": {
   "codemirror_mode": {
    "name": "ipython",
    "version": 3
   },
   "file_extension": ".py",
   "mimetype": "text/x-python",
   "name": "python",
   "nbconvert_exporter": "python",
   "pygments_lexer": "ipython3",
   "version": "3.11.4"
  }
 },
 "nbformat": 4,
 "nbformat_minor": 5
}
