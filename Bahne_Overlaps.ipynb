{
 "cells": [
  {
   "cell_type": "code",
   "execution_count": 1,
   "id": "849dcaf4",
   "metadata": {},
   "outputs": [],
   "source": [
    "import nilearn\n",
    "from nilearn import image\n",
    "import os\n",
    "import nibabel as nib\n",
    "import numpy as np\n",
    "import pandas as pd\n",
    "from nilearn.image import load_img\n",
    "from nilearn.image import math_img\n",
    "from nilearn.image import resample_to_img"
   ]
  },
  {
   "cell_type": "code",
   "execution_count": 2,
   "id": "5bd0a5c5",
   "metadata": {},
   "outputs": [],
   "source": [
    "#resample all subjects and hotspots\n",
    "directory = [i for i in os.listdir('/Volumes/Cingulate/NativeMNI_Overlaps/Bahne/Efields') if i.endswith('hemi-L.nii')]\n",
    "\n",
    "#resample patients\n",
    "def resample(sub,stn,path):\n",
    "    re_sub = resample_to_img(sub,stn,interpolation='nearest')\n",
    "    nib.save(re_sub,path)\n",
    "\n",
    "#load in STNs as anchor\n",
    "stn_lh = load_img('/Volumes/Cingulate/NativeMNI_Overlaps/Bahne/HotspotAtlas/resampled/STN_motor_lh.nii.gz')\n",
    "stn_rh = load_img('/Volumes/Cingulate/NativeMNI_Overlaps/Bahne/HotspotAtlas/resampled/STN_motor_rh.nii.gz')\n",
    "\n",
    "#resample hotspot\n",
    "hotspot_lh = load_img('/Volumes/Cingulate/NativeMNI_Overlaps/Bahne/HotspotAtlas/TORPSM_hotspot_lh.nii.gz')\n",
    "hotspot_rh = load_img('/Volumes/Cingulate/NativeMNI_Overlaps/Bahne/HotspotAtlas/TORPSM_hotspot_rh.nii.gz')\n",
    "\n",
    "resample(hotspot_lh,stn_lh,'/Volumes/Cingulate/NativeMNI_Overlaps/Bahne/HotspotAtlas/resampled/TORPSM_hotspot_lh.nii.gz')\n",
    "resample(hotspot_rh,stn_rh,'/Volumes/Cingulate/NativeMNI_Overlaps/Bahne/HotspotAtlas/resampled/TORPSM_hotspot_rh.nii.gz')\n",
    "\n",
    "#resample subjects\n",
    "for i in directory:\n",
    "    #load in patients\n",
    "    lh_sub = load_img(f'/Volumes/Cingulate/NativeMNI_Overlaps/Bahne/Efields/{i[:-5]}L.nii')\n",
    "    rh_sub = load_img(f'/Volumes/Cingulate/NativeMNI_Overlaps/Bahne/Efields/{i[:-5]}R.nii')\n",
    "\n",
    "    #call resample\n",
    "    resample(lh_sub,stn_lh,f'/Volumes/Cingulate/NativeMNI_Overlaps/Bahne/Efields/resampled/{i[:-5]}L.nii')\n",
    "    resample(rh_sub,stn_rh,f'/Volumes/Cingulate/NativeMNI_Overlaps/Bahne/Efields/resampled/{i[:-5]}R.nii')"
   ]
  },
  {
   "cell_type": "code",
   "execution_count": 3,
   "id": "a9673fa3",
   "metadata": {},
   "outputs": [],
   "source": [
    "#get volumes of overlap\n",
    "#make lists to store outputs in\n",
    "stn_lh_vol,stn_rh_vol,hotspot_lh_vol,hotspot_rh_vol = [],[],[],[]\n",
    "\n",
    "#load in stn & hotspot\n",
    "stn_lh = load_img('/Volumes/Cingulate/NativeMNI_Overlaps/Bahne/HotspotAtlas/resampled/STN_motor_lh.nii.gz')\n",
    "stn_rh = load_img('/Volumes/Cingulate/NativeMNI_Overlaps/Bahne/HotspotAtlas/resampled/STN_motor_rh.nii.gz')\n",
    "hotspot_lh = load_img('/Volumes/Cingulate/NativeMNI_Overlaps/Bahne/HotspotAtlas/resampled/TORPSM_hotspot_lh.nii.gz')\n",
    "hotspot_rh = load_img('/Volumes/Cingulate/NativeMNI_Overlaps/Bahne/HotspotAtlas/resampled/TORPSM_hotspot_rh.nii.gz')\n",
    "    \n",
    "def get_efield_overlap(stn,sub,volume_list):\n",
    "    mask = math_img('img1*img2',img1=stn,img2=sub) #mask subject and stn/hotspot so that only the overlapped voxels remain\n",
    "    mask = mask.get_fdata()\n",
    "    no0_mask = mask[mask!=0] #take out all 0s so they aren't included in the mean\n",
    "    volume = np.mean(no0_mask) #take average of overlapped voxels\n",
    "    volume_list.append(volume) #add to list\n",
    "\n",
    "#loop over to get volume\n",
    "for i in directory:\n",
    "    #load in subjects\n",
    "    sub_lh = load_img(f'/Volumes/Cingulate/NativeMNI_Overlaps/Bahne/Efields/resampled/{i[:-5]}L.nii')\n",
    "    sub_rh = load_img(f'/Volumes/Cingulate/NativeMNI_Overlaps/Bahne/Efields/resampled/{i[:-5]}R.nii')\n",
    "\n",
    "    #call the function\n",
    "    get_efield_overlap(stn_lh,sub_lh,stn_lh_vol)\n",
    "    get_efield_overlap(stn_rh,sub_rh,stn_rh_vol)\n",
    "    get_efield_overlap(hotspot_lh,sub_lh,hotspot_lh_vol)\n",
    "    get_efield_overlap(hotspot_rh,sub_rh,hotspot_rh_vol)"
   ]
  },
  {
   "cell_type": "code",
   "execution_count": 4,
   "id": "7e847d5d",
   "metadata": {},
   "outputs": [],
   "source": [
    "#get bilateral values for each column, taking the average\n",
    "#make lists to store outputs in\n",
    "stn_bi_vol,hotspot_bi_vol = [],[]\n",
    "    \n",
    "def efield_bilateral(list1,list2,averages_list): #take average of each subject in lh and rh lists\n",
    "    averages = [(x + y) / 2 for x, y in zip(list1, list2)]\n",
    "    averages_list.extend(averages)\n",
    "\n",
    "efield_bilateral(stn_lh_vol,stn_rh_vol,stn_bi_vol)\n",
    "efield_bilateral(hotspot_lh_vol,hotspot_rh_vol,hotspot_bi_vol)"
   ]
  },
  {
   "cell_type": "code",
   "execution_count": 5,
   "id": "c5adc56f",
   "metadata": {},
   "outputs": [],
   "source": [
    "#get ids of subjects\n",
    "sub_ids = []\n",
    "for i in directory:\n",
    "    sub_ids.append(i[:-35])"
   ]
  },
  {
   "cell_type": "code",
   "execution_count": 8,
   "id": "21a95aea",
   "metadata": {},
   "outputs": [],
   "source": [
    "#export into csv\n",
    "df = pd.DataFrame(\n",
    "    {'ID': sub_ids,\n",
    "     'Motor_STN_LH_Volume_Overlap': stn_lh_vol,\n",
    "     'Motor_STN_RH_Volume_Overlap': stn_rh_vol,\n",
    "     'Motor_STN_Bi_Volume_Overlap': stn_bi_vol,\n",
    "     'TOR-PSM_STN_Sweetspot_LH_Volume_Overlap': hotspot_lh_vol,\n",
    "     'TOR-PSM_STN_Sweetspot_RH_Volume_Overlap': hotspot_rh_vol,\n",
    "     'TOR-PSM_STN_Sweetspot_Bi_Volume_Overlap': hotspot_bi_vol\n",
    "    })\n",
    "\n",
    "df.to_csv('/Volumes/Cingulate/NativeMNI_Overlaps/Bahne/Volume_Overlap.csv')"
   ]
  },
  {
   "cell_type": "code",
   "execution_count": null,
   "id": "d0784985",
   "metadata": {},
   "outputs": [],
   "source": []
  },
  {
   "cell_type": "code",
   "execution_count": null,
   "id": "1e5be1bd",
   "metadata": {},
   "outputs": [],
   "source": []
  }
 ],
 "metadata": {
  "kernelspec": {
   "display_name": "Python 3 (ipykernel)",
   "language": "python",
   "name": "python3"
  },
  "language_info": {
   "codemirror_mode": {
    "name": "ipython",
    "version": 3
   },
   "file_extension": ".py",
   "mimetype": "text/x-python",
   "name": "python",
   "nbconvert_exporter": "python",
   "pygments_lexer": "ipython3",
   "version": "3.11.4"
  }
 },
 "nbformat": 4,
 "nbformat_minor": 5
}
